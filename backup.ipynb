{
 "cells": [
  {
   "cell_type": "code",
   "execution_count": 5,
   "id": "9d994470-e69d-410a-afad-26e1e04db548",
   "metadata": {},
   "outputs": [
    {
     "ename": "NameError",
     "evalue": "name 'messages' is not defined",
     "output_type": "error",
     "traceback": [
      "\u001b[1;31m---------------------------------------------------------------------------\u001b[0m",
      "\u001b[1;31mNameError\u001b[0m                                 Traceback (most recent call last)",
      "Cell \u001b[1;32mIn[5], line 1\u001b[0m\n\u001b[1;32m----> 1\u001b[0m \u001b[38;5;28;01mfor\u001b[39;00m msg \u001b[38;5;129;01min\u001b[39;00m messages:\n\u001b[0;32m      2\u001b[0m     msg_detail \u001b[38;5;241m=\u001b[39m service\u001b[38;5;241m.\u001b[39musers()\u001b[38;5;241m.\u001b[39mmessages()\u001b[38;5;241m.\u001b[39mget(userId\u001b[38;5;241m=\u001b[39m\u001b[38;5;124m'\u001b[39m\u001b[38;5;124mme\u001b[39m\u001b[38;5;124m'\u001b[39m, \u001b[38;5;28mid\u001b[39m\u001b[38;5;241m=\u001b[39mmsg[\u001b[38;5;124m'\u001b[39m\u001b[38;5;124mid\u001b[39m\u001b[38;5;124m'\u001b[39m], \u001b[38;5;28mformat\u001b[39m\u001b[38;5;241m=\u001b[39m\u001b[38;5;124m'\u001b[39m\u001b[38;5;124mfull\u001b[39m\u001b[38;5;124m'\u001b[39m)\u001b[38;5;241m.\u001b[39mexecute()\n\u001b[0;32m      3\u001b[0m     headers \u001b[38;5;241m=\u001b[39m msg_detail[\u001b[38;5;124m'\u001b[39m\u001b[38;5;124mpayload\u001b[39m\u001b[38;5;124m'\u001b[39m][\u001b[38;5;124m'\u001b[39m\u001b[38;5;124mheaders\u001b[39m\u001b[38;5;124m'\u001b[39m]\n",
      "\u001b[1;31mNameError\u001b[0m: name 'messages' is not defined"
     ]
    }
   ],
   "source": [
    "for msg in messages:\n",
    "    msg_detail = service.users().messages().get(userId='me', id=msg['id'], format='full').execute()\n",
    "    headers = msg_detail['payload']['headers']\n",
    "    \n",
    "    for header in headers:\n",
    "        if header['name'] == 'From':\n",
    "            sender = header['value']\n",
    "        if header['name'] == 'Subject':\n",
    "            subject = header['value']\n",
    "    \n",
    "    # Extract email body (if available)\n",
    "    if 'parts' in msg_detail['payload']:\n",
    "        body = msg_detail['payload']['parts'][0]['body'].get('data', '')\n",
    "    else:\n",
    "        body = \"No Body Available\"\n",
    "\n",
    "    print(f\"From: {sender}\")\n",
    "    print(f\"Subject: {subject}\")\n",
    "    print(f\"Body: {body[:100]}...\")  # Print first 100 characters of the body\n",
    "    print(\"-\" * 50)\n"
   ]
  },
  {
   "cell_type": "code",
   "execution_count": 1,
   "id": "03fdc7b9-e597-4ad8-9c43-c4e08edad9d2",
   "metadata": {},
   "outputs": [
    {
     "name": "stdout",
     "output_type": "stream",
     "text": [
      "Requirement already satisfied: google-auth in c:\\users\\admin\\anaconda3\\lib\\site-packages (2.38.0)Note: you may need to restart the kernel to use updated packages.\n",
      "\n",
      "Requirement already satisfied: google-auth-oauthlib in c:\\users\\admin\\anaconda3\\lib\\site-packages (1.2.1)\n",
      "Requirement already satisfied: google-auth-httplib2 in c:\\users\\admin\\anaconda3\\lib\\site-packages (0.2.0)\n",
      "Requirement already satisfied: google-api-python-client in c:\\users\\admin\\anaconda3\\lib\\site-packages (2.160.0)\n",
      "Requirement already satisfied: cachetools<6.0,>=2.0.0 in c:\\users\\admin\\anaconda3\\lib\\site-packages (from google-auth) (5.3.3)\n",
      "Requirement already satisfied: pyasn1-modules>=0.2.1 in c:\\users\\admin\\anaconda3\\lib\\site-packages (from google-auth) (0.2.8)\n",
      "Requirement already satisfied: rsa<5,>=3.1.4 in c:\\users\\admin\\anaconda3\\lib\\site-packages (from google-auth) (4.9)\n",
      "Requirement already satisfied: requests-oauthlib>=0.7.0 in c:\\users\\admin\\anaconda3\\lib\\site-packages (from google-auth-oauthlib) (2.0.0)\n",
      "Requirement already satisfied: httplib2>=0.19.0 in c:\\users\\admin\\anaconda3\\lib\\site-packages (from google-auth-httplib2) (0.22.0)\n",
      "Requirement already satisfied: google-api-core!=2.0.*,!=2.1.*,!=2.2.*,!=2.3.0,<3.0.0.dev0,>=1.31.5 in c:\\users\\admin\\anaconda3\\lib\\site-packages (from google-api-python-client) (2.24.1)\n",
      "Requirement already satisfied: uritemplate<5,>=3.0.1 in c:\\users\\admin\\anaconda3\\lib\\site-packages (from google-api-python-client) (4.1.1)\n",
      "Requirement already satisfied: googleapis-common-protos<2.0.dev0,>=1.56.2 in c:\\users\\admin\\anaconda3\\lib\\site-packages (from google-api-core!=2.0.*,!=2.1.*,!=2.2.*,!=2.3.0,<3.0.0.dev0,>=1.31.5->google-api-python-client) (1.66.0)\n",
      "Requirement already satisfied: protobuf!=3.20.0,!=3.20.1,!=4.21.0,!=4.21.1,!=4.21.2,!=4.21.3,!=4.21.4,!=4.21.5,<6.0.0.dev0,>=3.19.5 in c:\\users\\admin\\anaconda3\\lib\\site-packages (from google-api-core!=2.0.*,!=2.1.*,!=2.2.*,!=2.3.0,<3.0.0.dev0,>=1.31.5->google-api-python-client) (4.25.5)\n",
      "Requirement already satisfied: proto-plus<2.0.0dev,>=1.22.3 in c:\\users\\admin\\anaconda3\\lib\\site-packages (from google-api-core!=2.0.*,!=2.1.*,!=2.2.*,!=2.3.0,<3.0.0.dev0,>=1.31.5->google-api-python-client) (1.26.0)\n",
      "Requirement already satisfied: requests<3.0.0.dev0,>=2.18.0 in c:\\users\\admin\\anaconda3\\lib\\site-packages (from google-api-core!=2.0.*,!=2.1.*,!=2.2.*,!=2.3.0,<3.0.0.dev0,>=1.31.5->google-api-python-client) (2.32.2)\n",
      "Requirement already satisfied: pyparsing!=3.0.0,!=3.0.1,!=3.0.2,!=3.0.3,<4,>=2.4.2 in c:\\users\\admin\\anaconda3\\lib\\site-packages (from httplib2>=0.19.0->google-auth-httplib2) (3.0.9)\n",
      "Requirement already satisfied: pyasn1<0.5.0,>=0.4.6 in c:\\users\\admin\\anaconda3\\lib\\site-packages (from pyasn1-modules>=0.2.1->google-auth) (0.4.8)\n",
      "Requirement already satisfied: oauthlib>=3.0.0 in c:\\users\\admin\\anaconda3\\lib\\site-packages (from requests-oauthlib>=0.7.0->google-auth-oauthlib) (3.2.2)\n",
      "Requirement already satisfied: charset-normalizer<4,>=2 in c:\\users\\admin\\anaconda3\\lib\\site-packages (from requests<3.0.0.dev0,>=2.18.0->google-api-core!=2.0.*,!=2.1.*,!=2.2.*,!=2.3.0,<3.0.0.dev0,>=1.31.5->google-api-python-client) (2.0.4)\n",
      "Requirement already satisfied: idna<4,>=2.5 in c:\\users\\admin\\anaconda3\\lib\\site-packages (from requests<3.0.0.dev0,>=2.18.0->google-api-core!=2.0.*,!=2.1.*,!=2.2.*,!=2.3.0,<3.0.0.dev0,>=1.31.5->google-api-python-client) (3.7)\n",
      "Requirement already satisfied: urllib3<3,>=1.21.1 in c:\\users\\admin\\anaconda3\\lib\\site-packages (from requests<3.0.0.dev0,>=2.18.0->google-api-core!=2.0.*,!=2.1.*,!=2.2.*,!=2.3.0,<3.0.0.dev0,>=1.31.5->google-api-python-client) (2.2.2)\n",
      "Requirement already satisfied: certifi>=2017.4.17 in c:\\users\\admin\\anaconda3\\lib\\site-packages (from requests<3.0.0.dev0,>=2.18.0->google-api-core!=2.0.*,!=2.1.*,!=2.2.*,!=2.3.0,<3.0.0.dev0,>=1.31.5->google-api-python-client) (2024.8.30)\n"
     ]
    }
   ],
   "source": [
    "pip install google-auth google-auth-oauthlib google-auth-httplib2 google-api-python-client\n"
   ]
  },
  {
   "cell_type": "code",
   "execution_count": null,
   "id": "3e435755-b9ec-4619-87a5-08dcdb8af037",
   "metadata": {},
   "outputs": [],
   "source": [
    "from google_auth_oauthlib.flow import InstalledAppFlow\n",
    "from googleapiclient.discovery import build\n",
    "\n",
    "SCOPES = ['https://www.googleapis.com/auth/gmail.readonly']\n",
    "\n",
    "flow = InstalledAppFlow.from_client_secrets_file(\"client_secret_.json\", SCOPES)\n",
    "creds = flow.run_local_server(port=8081)\n",
    "service = build('gmail', 'v1', credentials=creds)\n",
    "\n",
    "# Fetch Emails\n",
    "results = service.users().messages().list(userId='me', maxResults=5).execute()\n",
    "messages = results.get('messages', [])\n",
    "\n",
    "for msg in messages:\n",
    "    msg_detail = service.users().messages().get(userId='me', id=msg['id']).execute()\n",
    "    print(msg_detail['snippet'])  # Short email preview\n",
    "\n"
   ]
  },
  {
   "cell_type": "code",
   "execution_count": 1,
   "id": "2fa96daa-4cbd-4cb6-b38a-dfef8c1346f6",
   "metadata": {},
   "outputs": [
    {
     "name": "stdout",
     "output_type": "stream",
     "text": [
      "Please visit this URL to authorize this application: https://accounts.google.com/o/oauth2/auth?response_type=code&client_id=424078835405-5v64ao8qamfnbemi93u8e67r0i0g5n2t.apps.googleusercontent.com&redirect_uri=http%3A%2F%2Flocalhost%3A8081%2F&scope=https%3A%2F%2Fwww.googleapis.com%2Fauth%2Fgmail.send&state=5qj0gWHGNO4PU8VMa9iER4zP9Ix1u2&access_type=offline\n",
      "✅ Email sent to purvesh.varale24@sanjivani.edu.in\n",
      "✅ Email sent to varad.ahire24@sanjivani.edu.in\n"
     ]
    }
   ],
   "source": [
    "import base64\n",
    "from email.mime.text import MIMEText\n",
    "from google_auth_oauthlib.flow import InstalledAppFlow\n",
    "from googleapiclient.discovery import build\n",
    "from datetime import datetime, timedelta\n",
    "\n",
    "# Define Gmail and Calendar API scopes\n",
    "GMAIL_SCOPES = ['https://www.googleapis.com/auth/gmail.send']\n",
    "CALENDAR_SCOPES = ['https://www.googleapis.com/auth/calendar']\n",
    "\n",
    "def authenticate_api(scopes):\n",
    "    \"\"\"Authenticate with Google API.\"\"\"\n",
    "    flow = InstalledAppFlow.from_client_secrets_file(\"client_secret_.json\", scopes)\n",
    "    creds = flow.run_local_server(port=8081)\n",
    "    return build('gmail', 'v1', credentials=creds)\n",
    "\n",
    "def schedule_meeting_and_send_email(summary, start_time, duration_minutes, attendees):\n",
    "    \"\"\"Schedule a meeting and send email invitations.\"\"\"\n",
    "    # Calculate end time\n",
    "    start_datetime = datetime.strptime(start_time, \"%Y-%m-%dT%H:%M:%S\")\n",
    "    end_datetime = start_datetime + timedelta(minutes=duration_minutes)\n",
    "    \n",
    "    # Format dates for calendar event\n",
    "    start_str = start_datetime.strftime(\"%Y-%m-%dT%H:%M:%S\")\n",
    "    end_str = end_datetime.strftime(\"%Y-%m-%dT%H:%M:%S\")\n",
    "\n",
    "    # Meeting details\n",
    "    meeting_link = f\"https://meet.google.com/{start_datetime.strftime('%H%M%S')}\"  # Dummy link\n",
    "    email_body = f\"\"\"\n",
    "    📅 **Meeting Scheduled!**\n",
    "\n",
    "    📝 **Topic:** {summary}\n",
    "    🗓️ **Date:** {start_datetime.strftime('%A, %d %B %Y')}\n",
    "    ⏰ **Time:** {start_datetime.strftime('%I:%M %p')}\n",
    "    ⏳ **Duration:** {duration_minutes} minutes\n",
    "    🔗 **Join Here:** {meeting_link}\n",
    "\n",
    "    📍 Location: Virtual (Google Meet)\n",
    "    \"\"\"\n",
    "\n",
    "    # Authenticate Gmail API\n",
    "    gmail_service = authenticate_api(GMAIL_SCOPES)\n",
    "\n",
    "    # Send email to each participant\n",
    "    for recipient in attendees:\n",
    "        message = MIMEText(email_body, 'plain')\n",
    "        message['to'] = recipient\n",
    "        message['subject'] = f\"📅 Meeting Scheduled: {summary}\"\n",
    "        raw_message = base64.urlsafe_b64encode(message.as_bytes()).decode()\n",
    "\n",
    "        # Send email via Gmail API\n",
    "        gmail_service.users().messages().send(userId=\"me\", body={\"raw\": raw_message}).execute()\n",
    "        print(f\"✅ Email sent to {recipient}\")\n",
    "\n",
    "# Example usage\n",
    "attendees = [\"purvesh.varale24@sanjivani.edu.in\", \"varad.ahire24@sanjivani.edu.in\"]\n",
    "schedule_meeting_and_send_email(\"game time\", \"2025-02-21T15:50:20\", 60, attendees)\n"
   ]
  },
  {
   "cell_type": "code",
   "execution_count": null,
   "id": "ef969e0b-8bd9-4e8d-a58b-7d63008c3904",
   "metadata": {},
   "outputs": [],
   "source": []
  },
  {
   "cell_type": "code",
   "execution_count": null,
   "id": "e62112cb-2c75-49bf-83ba-3eb6b347467b",
   "metadata": {},
   "outputs": [],
   "source": []
  },
  {
   "cell_type": "code",
   "execution_count": null,
   "id": "a653a518-ecf3-4ce0-847c-d2390ea2d634",
   "metadata": {},
   "outputs": [],
   "source": []
  },
  {
   "cell_type": "code",
   "execution_count": null,
   "id": "d581e535-319c-42f5-a83e-243c0c0faab9",
   "metadata": {},
   "outputs": [],
   "source": []
  },
  {
   "cell_type": "code",
   "execution_count": null,
   "id": "a7705b4e-5672-46ea-a556-e10f3342d9e7",
   "metadata": {},
   "outputs": [],
   "source": []
  },
  {
   "cell_type": "code",
   "execution_count": null,
   "id": "85890771-563f-48ba-937c-b242a5da51f1",
   "metadata": {},
   "outputs": [],
   "source": []
  },
  {
   "cell_type": "code",
   "execution_count": 1,
   "id": "790354ed-25c7-4138-8a14-5a371a101f3d",
   "metadata": {},
   "outputs": [],
   "source": [
    "# to add claender in the application "
   ]
  },
  {
   "cell_type": "code",
   "execution_count": 7,
   "id": "400a7eb8-f9ef-4dc4-a7cc-65eecbbfab7b",
   "metadata": {},
   "outputs": [
    {
     "name": "stdout",
     "output_type": "stream",
     "text": [
      "Please visit this URL to authorize this application: https://accounts.google.com/o/oauth2/auth?response_type=code&client_id=424078835405-5v64ao8qamfnbemi93u8e67r0i0g5n2t.apps.googleusercontent.com&redirect_uri=http%3A%2F%2Flocalhost%3A8081%2F&scope=https%3A%2F%2Fwww.googleapis.com%2Fauth%2Fcalendar&state=0QCY53PgEVZR8AIZn8GpSNxSelTeTg&access_type=offline\n"
     ]
    },
    {
     "ename": "HttpError",
     "evalue": "<HttpError 403 when requesting https://www.googleapis.com/calendar/v3/calendars/primary/events?alt=json returned \"Google Calendar API has not been used in project 424078835405 before or it is disabled. Enable it by visiting https://console.developers.google.com/apis/api/calendar-json.googleapis.com/overview?project=424078835405 then retry. If you enabled this API recently, wait a few minutes for the action to propagate to our systems and retry.\". Details: \"[{'message': 'Google Calendar API has not been used in project 424078835405 before or it is disabled. Enable it by visiting https://console.developers.google.com/apis/api/calendar-json.googleapis.com/overview?project=424078835405 then retry. If you enabled this API recently, wait a few minutes for the action to propagate to our systems and retry.', 'domain': 'usageLimits', 'reason': 'accessNotConfigured', 'extendedHelp': 'https://console.developers.google.com'}]\">",
     "output_type": "error",
     "traceback": [
      "\u001b[1;31m---------------------------------------------------------------------------\u001b[0m",
      "\u001b[1;31mHttpError\u001b[0m                                 Traceback (most recent call last)",
      "Cell \u001b[1;32mIn[7], line 36\u001b[0m\n\u001b[0;32m     34\u001b[0m \u001b[38;5;66;03m# Example usage\u001b[39;00m\n\u001b[0;32m     35\u001b[0m attendees \u001b[38;5;241m=\u001b[39m [\u001b[38;5;124m\"\u001b[39m\u001b[38;5;124mjohn@example.com\u001b[39m\u001b[38;5;124m\"\u001b[39m, \u001b[38;5;124m\"\u001b[39m\u001b[38;5;124msarah@example.com\u001b[39m\u001b[38;5;124m\"\u001b[39m]\n\u001b[1;32m---> 36\u001b[0m create_calendar_event(\u001b[38;5;124m\"\u001b[39m\u001b[38;5;124mProject Sync\u001b[39m\u001b[38;5;124m\"\u001b[39m, \u001b[38;5;124m\"\u001b[39m\u001b[38;5;124m2025-02-18T15:00:00\u001b[39m\u001b[38;5;124m\"\u001b[39m, \u001b[38;5;241m60\u001b[39m, attendees)\n",
      "Cell \u001b[1;32mIn[7], line 31\u001b[0m, in \u001b[0;36mcreate_calendar_event\u001b[1;34m(summary, start_time, duration_minutes, attendees)\u001b[0m\n\u001b[0;32m     22\u001b[0m \u001b[38;5;66;03m# Format times in ISO 8601 format\u001b[39;00m\n\u001b[0;32m     23\u001b[0m event \u001b[38;5;241m=\u001b[39m {\n\u001b[0;32m     24\u001b[0m     \u001b[38;5;124m'\u001b[39m\u001b[38;5;124msummary\u001b[39m\u001b[38;5;124m'\u001b[39m: summary,\n\u001b[0;32m     25\u001b[0m     \u001b[38;5;124m'\u001b[39m\u001b[38;5;124mstart\u001b[39m\u001b[38;5;124m'\u001b[39m: {\u001b[38;5;124m'\u001b[39m\u001b[38;5;124mdateTime\u001b[39m\u001b[38;5;124m'\u001b[39m: start_datetime\u001b[38;5;241m.\u001b[39misoformat(), \u001b[38;5;124m'\u001b[39m\u001b[38;5;124mtimeZone\u001b[39m\u001b[38;5;124m'\u001b[39m: \u001b[38;5;124m'\u001b[39m\u001b[38;5;124mAsia/Kolkata\u001b[39m\u001b[38;5;124m'\u001b[39m},\n\u001b[1;32m   (...)\u001b[0m\n\u001b[0;32m     28\u001b[0m     \u001b[38;5;124m'\u001b[39m\u001b[38;5;124mreminders\u001b[39m\u001b[38;5;124m'\u001b[39m: {\u001b[38;5;124m'\u001b[39m\u001b[38;5;124museDefault\u001b[39m\u001b[38;5;124m'\u001b[39m: \u001b[38;5;28;01mTrue\u001b[39;00m},\n\u001b[0;32m     29\u001b[0m }\n\u001b[1;32m---> 31\u001b[0m event \u001b[38;5;241m=\u001b[39m service\u001b[38;5;241m.\u001b[39mevents()\u001b[38;5;241m.\u001b[39minsert(calendarId\u001b[38;5;241m=\u001b[39m\u001b[38;5;124m'\u001b[39m\u001b[38;5;124mprimary\u001b[39m\u001b[38;5;124m'\u001b[39m, body\u001b[38;5;241m=\u001b[39mevent)\u001b[38;5;241m.\u001b[39mexecute()\n\u001b[0;32m     32\u001b[0m \u001b[38;5;28mprint\u001b[39m(\u001b[38;5;124mf\u001b[39m\u001b[38;5;124m\"\u001b[39m\u001b[38;5;124m✅ Meeting scheduled: \u001b[39m\u001b[38;5;132;01m{\u001b[39;00mevent[\u001b[38;5;124m'\u001b[39m\u001b[38;5;124mhtmlLink\u001b[39m\u001b[38;5;124m'\u001b[39m]\u001b[38;5;132;01m}\u001b[39;00m\u001b[38;5;124m\"\u001b[39m)\n",
      "File \u001b[1;32m~\\anaconda3\\Lib\\site-packages\\googleapiclient\\_helpers.py:130\u001b[0m, in \u001b[0;36mpositional.<locals>.positional_decorator.<locals>.positional_wrapper\u001b[1;34m(*args, **kwargs)\u001b[0m\n\u001b[0;32m    128\u001b[0m     \u001b[38;5;28;01melif\u001b[39;00m positional_parameters_enforcement \u001b[38;5;241m==\u001b[39m POSITIONAL_WARNING:\n\u001b[0;32m    129\u001b[0m         logger\u001b[38;5;241m.\u001b[39mwarning(message)\n\u001b[1;32m--> 130\u001b[0m \u001b[38;5;28;01mreturn\u001b[39;00m wrapped(\u001b[38;5;241m*\u001b[39margs, \u001b[38;5;241m*\u001b[39m\u001b[38;5;241m*\u001b[39mkwargs)\n",
      "File \u001b[1;32m~\\anaconda3\\Lib\\site-packages\\googleapiclient\\http.py:938\u001b[0m, in \u001b[0;36mHttpRequest.execute\u001b[1;34m(self, http, num_retries)\u001b[0m\n\u001b[0;32m    936\u001b[0m     callback(resp)\n\u001b[0;32m    937\u001b[0m \u001b[38;5;28;01mif\u001b[39;00m resp\u001b[38;5;241m.\u001b[39mstatus \u001b[38;5;241m>\u001b[39m\u001b[38;5;241m=\u001b[39m \u001b[38;5;241m300\u001b[39m:\n\u001b[1;32m--> 938\u001b[0m     \u001b[38;5;28;01mraise\u001b[39;00m HttpError(resp, content, uri\u001b[38;5;241m=\u001b[39m\u001b[38;5;28mself\u001b[39m\u001b[38;5;241m.\u001b[39muri)\n\u001b[0;32m    939\u001b[0m \u001b[38;5;28;01mreturn\u001b[39;00m \u001b[38;5;28mself\u001b[39m\u001b[38;5;241m.\u001b[39mpostproc(resp, content)\n",
      "\u001b[1;31mHttpError\u001b[0m: <HttpError 403 when requesting https://www.googleapis.com/calendar/v3/calendars/primary/events?alt=json returned \"Google Calendar API has not been used in project 424078835405 before or it is disabled. Enable it by visiting https://console.developers.google.com/apis/api/calendar-json.googleapis.com/overview?project=424078835405 then retry. If you enabled this API recently, wait a few minutes for the action to propagate to our systems and retry.\". Details: \"[{'message': 'Google Calendar API has not been used in project 424078835405 before or it is disabled. Enable it by visiting https://console.developers.google.com/apis/api/calendar-json.googleapis.com/overview?project=424078835405 then retry. If you enabled this API recently, wait a few minutes for the action to propagate to our systems and retry.', 'domain': 'usageLimits', 'reason': 'accessNotConfigured', 'extendedHelp': 'https://console.developers.google.com'}]\">"
     ]
    }
   ],
   "source": [
    "from google_auth_oauthlib.flow import InstalledAppFlow\n",
    "from googleapiclient.discovery import build\n",
    "from datetime import datetime, timedelta\n",
    "\n",
    "# Define Calendar API scope\n",
    "SCOPES = ['https://www.googleapis.com/auth/calendar']\n",
    "\n",
    "def authenticate_calendar():\n",
    "    \"\"\"Authenticate and return Google Calendar API service.\"\"\"\n",
    "    flow = InstalledAppFlow.from_client_secrets_file(\"client_secret_.json\", SCOPES)\n",
    "    creds = flow.run_local_server(port=8081)\n",
    "    return build('calendar', 'v3', credentials=creds)\n",
    "\n",
    "def create_calendar_event(summary, start_time, duration_minutes, attendees):\n",
    "    \"\"\"Create a Google Calendar event and send invites.\"\"\"\n",
    "    service = authenticate_calendar()\n",
    "\n",
    "    # Calculate start & end times\n",
    "    start_datetime = datetime.strptime(start_time, \"%Y-%m-%dT%H:%M:%S\")\n",
    "    end_datetime = start_datetime + timedelta(minutes=duration_minutes)\n",
    "\n",
    "    # Format times in ISO 8601 format\n",
    "    event = {\n",
    "        'summary': summary,\n",
    "        'start': {'dateTime': start_datetime.isoformat(), 'timeZone': 'Asia/Kolkata'},\n",
    "        'end': {'dateTime': end_datetime.isoformat(), 'timeZone': 'Asia/Kolkata'},\n",
    "        'attendees': [{'email': email} for email in attendees],\n",
    "        'reminders': {'useDefault': True},\n",
    "    }\n",
    "\n",
    "    event = service.events().insert(calendarId='primary', body=event).execute()\n",
    "    print(f\"✅ Meeting scheduled: {event['htmlLink']}\")\n",
    "\n",
    "# Example usage\n",
    "attendees = [\"john@example.com\", \"sarah@example.com\"]\n",
    "create_calendar_event(\"Project Sync\", \"2025-02-18T15:00:00\", 60, attendees)\n"
   ]
  },
  {
   "cell_type": "code",
   "execution_count": null,
   "id": "6e0479fc-6658-4d1a-baa0-c36cb20e0379",
   "metadata": {},
   "outputs": [],
   "source": []
  }
 ],
 "metadata": {
  "kernelspec": {
   "display_name": "Python 3 (ipykernel)",
   "language": "python",
   "name": "python3"
  },
  "language_info": {
   "codemirror_mode": {
    "name": "ipython",
    "version": 3
   },
   "file_extension": ".py",
   "mimetype": "text/x-python",
   "name": "python",
   "nbconvert_exporter": "python",
   "pygments_lexer": "ipython3",
   "version": "3.12.4"
  }
 },
 "nbformat": 4,
 "nbformat_minor": 5
}
